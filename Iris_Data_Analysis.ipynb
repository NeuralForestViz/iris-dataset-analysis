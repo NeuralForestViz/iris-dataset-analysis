{
 "cells": [
  {
   "cell_type": "markdown",
   "id": "65d7fc50",
   "metadata": {},
   "source": [
    "# Iris Dataset: A Friendly Walkthrough"
   ]
  },
  {
   "cell_type": "markdown",
   "id": "8319018c",
   "metadata": {},
   "source": [
    "This notebook walks you through the **data science process** using the famous Iris flower dataset. It is designed for business audiences with limited technical background and explains each step in plain language."
   ]
  },
  {
   "cell_type": "markdown",
   "id": "8a42e99c",
   "metadata": {},
   "source": [
    "## 1. Getting to Know the Data\n",
    "We start by loading the dataset and taking a quick peek at its contents."
   ]
  },
  {
   "cell_type": "code",
   "execution_count": null,
   "id": "84b13f5f",
   "metadata": {},
   "outputs": [],
   "source": [
    "import seaborn as sns\n",
    "import pandas as pd\n",
    "import matplotlib.pyplot as plt\n",
    "from sklearn.model_selection import train_test_split\n",
    "from sklearn.ensemble import RandomForestClassifier\n",
    "from sklearn.metrics import classification_report\n",
    "\n",
    "# Load data\n",
    "df = sns.load_dataset(\"iris\")\n",
    "df.head()"
   ]
  },
  {
   "cell_type": "markdown",
   "id": "a532545c",
   "metadata": {},
   "source": [
    "## 2. Basic Statistics\n",
    "A quick summary helps us understand typical values and ranges."
   ]
  },
  {
   "cell_type": "code",
   "execution_count": null,
   "id": "a78e3561",
   "metadata": {},
   "outputs": [],
   "source": [
    "df.describe()"
   ]
  },
  {
   "cell_type": "markdown",
   "id": "beef9852",
   "metadata": {},
   "source": [
    "## 3. Visual Explorations\n",
    "Simple charts help reveal patterns."
   ]
  },
  {
   "cell_type": "code",
   "execution_count": null,
   "id": "67f107e6",
   "metadata": {},
   "outputs": [],
   "source": [
    "sns.pairplot(df, hue=\"species\")\n",
    "plt.show()"
   ]
  },
  {
   "cell_type": "markdown",
   "id": "1b922654",
   "metadata": {},
   "source": [
    "## 4. Building a Prediction Model\n",
    "We train a small model to classify iris species."
   ]
  },
  {
   "cell_type": "code",
   "execution_count": null,
   "id": "f45b706b",
   "metadata": {},
   "outputs": [],
   "source": [
    "X = df.drop(\"species\", axis=1)\n",
    "y = df[\"species\"]\n",
    "X_train, X_test, y_train, y_test = train_test_split(X, y, test_size=0.2, random_state=42)\n",
    "clf = RandomForestClassifier(random_state=42)\n",
    "clf.fit(X_train, y_train)\n",
    "y_pred = clf.predict(X_test)\n",
    "print(classification_report(y_test, y_pred))"
   ]
  },
  {
   "cell_type": "markdown",
   "id": "6aac49b3",
   "metadata": {},
   "source": [
    "## 5. Key Takeaways\n",
    "- Petal measurements provide strong signals for distinguishing species.\n",
    "- Even simple models can classify irises with high accuracy."
   ]
  }
 ],
 "metadata": {
  "language_info": {
   "name": "python",
   "version": "3.12.10"
  }
 },
 "nbformat": 4,
 "nbformat_minor": 5
}
